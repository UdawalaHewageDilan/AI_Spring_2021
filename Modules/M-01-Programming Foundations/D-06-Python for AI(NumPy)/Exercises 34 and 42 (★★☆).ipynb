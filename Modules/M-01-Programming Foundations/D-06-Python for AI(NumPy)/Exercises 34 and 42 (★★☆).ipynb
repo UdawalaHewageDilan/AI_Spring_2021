{
 "cells": [
  {
   "cell_type": "code",
   "execution_count": 4,
   "id": "written-optics",
   "metadata": {},
   "outputs": [],
   "source": [
    "# Import the needed libraries\n",
    "import numpy as np\n",
    "import datetime as dt"
   ]
  },
  {
   "cell_type": "markdown",
   "id": "polyphonic-finland",
   "metadata": {},
   "source": [
    "**34. How to get all the dates corresponding to the month of July 2016**"
   ]
  },
  {
   "cell_type": "code",
   "execution_count": 7,
   "id": "plastic-aaron",
   "metadata": {},
   "outputs": [
    {
     "output_type": "stream",
     "name": "stdout",
     "text": [
      "2016-07-01\n2016-07-02\n2016-07-03\n2016-07-04\n2016-07-05\n2016-07-06\n2016-07-07\n2016-07-08\n2016-07-09\n2016-07-10\n2016-07-11\n2016-07-12\n2016-07-13\n2016-07-14\n2016-07-15\n2016-07-16\n2016-07-17\n2016-07-18\n2016-07-19\n2016-07-20\n2016-07-21\n2016-07-22\n2016-07-23\n2016-07-24\n2016-07-25\n2016-07-26\n2016-07-27\n2016-07-28\n2016-07-29\n2016-07-30\n2016-07-31\n"
     ]
    }
   ],
   "source": [
    "strt_dt = dt.date(2016, 7, 1)\n",
    "end_dt = dt.date(2016, 7, 31)\n",
    "\n",
    "days = [strt_dt + dt.timedelta(days=x) for x in range((end_dt-strt_dt).days + 1)]\n",
    "\n",
    "for day in days:\n",
    "    print(day)\n"
   ]
  },
  {
   "cell_type": "markdown",
   "id": "opposite-impact",
   "metadata": {},
   "source": [
    "**42. Consider two random array A and B, check if they are equal**"
   ]
  },
  {
   "cell_type": "code",
   "execution_count": 3,
   "id": "missing-reception",
   "metadata": {},
   "outputs": [
    {
     "output_type": "stream",
     "name": "stdout",
     "text": [
      "True\n"
     ]
    }
   ],
   "source": [
    "def equal_arr(a,b):\n",
    "    compare = a == b\n",
    "    return compare.all()\n",
    "\n",
    "\n",
    "an_array = np.array([[1,2],[3,4]])\n",
    "another_array = np.array([[1,2],[3,4]])\n",
    "print(equal_arr(an_array,another_array))"
   ]
  },
  {
   "cell_type": "code",
   "execution_count": null,
   "metadata": {},
   "outputs": [],
   "source": []
  }
 ],
 "metadata": {
  "kernelspec": {
   "display_name": "Python 3",
   "language": "python",
   "name": "python3"
  },
  "language_info": {
   "codemirror_mode": {
    "name": "ipython",
    "version": 3
   },
   "file_extension": ".py",
   "mimetype": "text/x-python",
   "name": "python",
   "nbconvert_exporter": "python",
   "pygments_lexer": "ipython3",
   "version": "3.8.8-final"
  }
 },
 "nbformat": 4,
 "nbformat_minor": 5
}