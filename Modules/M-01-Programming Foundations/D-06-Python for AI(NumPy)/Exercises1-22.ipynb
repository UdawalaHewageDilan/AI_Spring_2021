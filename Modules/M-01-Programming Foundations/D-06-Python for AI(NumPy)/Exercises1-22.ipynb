{
 "metadata": {
  "language_info": {
   "codemirror_mode": {
    "name": "ipython",
    "version": 3
   },
   "file_extension": ".py",
   "mimetype": "text/x-python",
   "name": "python",
   "nbconvert_exporter": "python",
   "pygments_lexer": "ipython3",
   "version": "3.8.8-final"
  },
  "orig_nbformat": 2,
  "kernelspec": {
   "name": "python3",
   "display_name": "Python 3",
   "language": "python"
  }
 },
 "nbformat": 4,
 "nbformat_minor": 2,
 "cells": [
  {
   "source": [
    "# 100 numpy exercises\n",
    "\n",
    "This is a collection of exercises that have been collected in the numpy mailing list, on stack overflow and in the numpy documentation. The goal of this collection is to offer a quick reference for both old and new users but also to provide a set of exercises for those who teach.\n",
    "\n",
    "\n",
    "If you find an error or think you've a better way to solve some of them, feel free to open an issue at <https://github.com/rougier/numpy-100>"
   ],
   "cell_type": "markdown",
   "metadata": {}
  },
  {
   "source": [
    "#### 1. Import the numpy package under the name `np` (★☆☆)"
   ],
   "cell_type": "markdown",
   "metadata": {}
  },
  {
   "cell_type": "code",
   "execution_count": 1,
   "metadata": {},
   "outputs": [],
   "source": [
    "import numpy as np"
   ]
  },
  {
   "source": [
    "#### 2. Print the numpy version and the configuration (★☆☆)"
   ],
   "cell_type": "markdown",
   "metadata": {}
  },
  {
   "cell_type": "code",
   "execution_count": 2,
   "metadata": {},
   "outputs": [
    {
     "output_type": "stream",
     "name": "stdout",
     "text": [
      "1.19.2\nblas_mkl_info:\n    libraries = ['mkl_rt']\n    library_dirs = ['C:/Users/Dilan/anaconda3/envs/Strive_School_AI_March_2021\\\\Library\\\\lib']\n    define_macros = [('SCIPY_MKL_H', None), ('HAVE_CBLAS', None)]\n    include_dirs = ['C:/Users/Dilan/anaconda3/envs/Strive_School_AI_March_2021\\\\Library\\\\include']\nblas_opt_info:\n    libraries = ['mkl_rt']\n    library_dirs = ['C:/Users/Dilan/anaconda3/envs/Strive_School_AI_March_2021\\\\Library\\\\lib']\n    define_macros = [('SCIPY_MKL_H', None), ('HAVE_CBLAS', None)]\n    include_dirs = ['C:/Users/Dilan/anaconda3/envs/Strive_School_AI_March_2021\\\\Library\\\\include']\nlapack_mkl_info:\n    libraries = ['mkl_rt']\n    library_dirs = ['C:/Users/Dilan/anaconda3/envs/Strive_School_AI_March_2021\\\\Library\\\\lib']\n    define_macros = [('SCIPY_MKL_H', None), ('HAVE_CBLAS', None)]\n    include_dirs = ['C:/Users/Dilan/anaconda3/envs/Strive_School_AI_March_2021\\\\Library\\\\include']\nlapack_opt_info:\n    libraries = ['mkl_rt']\n    library_dirs = ['C:/Users/Dilan/anaconda3/envs/Strive_School_AI_March_2021\\\\Library\\\\lib']\n    define_macros = [('SCIPY_MKL_H', None), ('HAVE_CBLAS', None)]\n    include_dirs = ['C:/Users/Dilan/anaconda3/envs/Strive_School_AI_March_2021\\\\Library\\\\include']\nNone\n"
     ]
    }
   ],
   "source": [
    "print(np.version.version)\n",
    "print(np.__config__.show())"
   ]
  },
  {
   "source": [
    "#### 3. Create a null vector of size 10 (★☆☆)"
   ],
   "cell_type": "markdown",
   "metadata": {}
  },
  {
   "cell_type": "code",
   "execution_count": 3,
   "metadata": {},
   "outputs": [
    {
     "output_type": "execute_result",
     "data": {
      "text/plain": [
       "array([0, 0, 0, 0, 0, 0, 0, 0, 0, 0], dtype=int8)"
      ]
     },
     "metadata": {},
     "execution_count": 3
    }
   ],
   "source": [
    "a = np.zeros(10, dtype='int8')\n",
    "a"
   ]
  },
  {
   "source": [
    "#### 4.  How to find the memory size of any array (★☆☆)"
   ],
   "cell_type": "markdown",
   "metadata": {}
  },
  {
   "cell_type": "code",
   "execution_count": 4,
   "metadata": {},
   "outputs": [
    {
     "output_type": "execute_result",
     "data": {
      "text/plain": [
       "10"
      ]
     },
     "metadata": {},
     "execution_count": 4
    }
   ],
   "source": [
    "a.nbytes"
   ]
  },
  {
   "source": [
    "#### 5.  How to get the documentation of the numpy add function from the command line? (★☆☆)"
   ],
   "cell_type": "markdown",
   "metadata": {}
  },
  {
   "source": [
    "#### 6.  Create a null vector of size 10 but the fifth value which is 1 (★☆☆)"
   ],
   "cell_type": "markdown",
   "metadata": {}
  },
  {
   "cell_type": "code",
   "execution_count": 5,
   "metadata": {},
   "outputs": [
    {
     "output_type": "execute_result",
     "data": {
      "text/plain": [
       "array([0, 0, 0, 0, 1, 0, 0, 0, 0, 0], dtype=int8)"
      ]
     },
     "metadata": {},
     "execution_count": 5
    }
   ],
   "source": [
    "b = a.copy()\n",
    "b[4] = 1\n",
    "b"
   ]
  },
  {
   "source": [
    "#### 7.  Create a vector with values ranging from 10 to 49 (★☆☆)"
   ],
   "cell_type": "markdown",
   "metadata": {}
  },
  {
   "cell_type": "code",
   "execution_count": 6,
   "metadata": {},
   "outputs": [
    {
     "output_type": "execute_result",
     "data": {
      "text/plain": [
       "array([11, 12, 13, 14, 15, 16, 17, 18, 19, 20, 21, 22, 23, 24, 25, 26, 27,\n",
       "       28, 29, 30, 31, 32, 33, 34, 35, 36, 37, 38, 39, 40, 41, 42, 43, 44,\n",
       "       45, 46, 47, 48, 49])"
      ]
     },
     "metadata": {},
     "execution_count": 6
    }
   ],
   "source": [
    "np.arange(11,50)"
   ]
  },
  {
   "source": [
    "#### 8.  Reverse a vector (first element becomes last) (★☆☆)"
   ],
   "cell_type": "markdown",
   "metadata": {}
  },
  {
   "cell_type": "code",
   "execution_count": 7,
   "metadata": {},
   "outputs": [
    {
     "output_type": "execute_result",
     "data": {
      "text/plain": [
       "array([5, 4, 3, 2, 1])"
      ]
     },
     "metadata": {},
     "execution_count": 7
    }
   ],
   "source": [
    "to_rvrs = np.array([1,2,3,4,5])\n",
    "to_rvrs = to_rvrs[::-1]\n",
    "to_rvrs"
   ]
  },
  {
   "source": [
    "#### 9.  Create a 3x3 matrix with values ranging from 0 to 8 (★☆☆)"
   ],
   "cell_type": "markdown",
   "metadata": {}
  },
  {
   "cell_type": "code",
   "execution_count": 8,
   "metadata": {},
   "outputs": [
    {
     "output_type": "stream",
     "name": "stdout",
     "text": [
      "[0 1 2 3 4 5 6 7 8]\n"
     ]
    },
    {
     "output_type": "execute_result",
     "data": {
      "text/plain": [
       "array([[0, 1, 2],\n",
       "       [3, 4, 5],\n",
       "       [6, 7, 8]])"
      ]
     },
     "metadata": {},
     "execution_count": 8
    }
   ],
   "source": [
    "a_vec = np.arange(0,9)\n",
    "a_mat = a_vec.reshape((3,3))\n",
    "print(a_vec)\n",
    "a_mat"
   ]
  },
  {
   "source": [
    "#### 10. Find indices of non-zero elements from \\[1,2,0,0,4,0\\] (★☆☆)"
   ],
   "cell_type": "markdown",
   "metadata": {}
  },
  {
   "cell_type": "code",
   "execution_count": 9,
   "metadata": {},
   "outputs": [
    {
     "output_type": "execute_result",
     "data": {
      "text/plain": [
       "array([ True,  True, False, False,  True, False])"
      ]
     },
     "metadata": {},
     "execution_count": 9
    }
   ],
   "source": [
    "find_zero = np.array([1,2,0,0,4,0])\n",
    "non_zero = find_zero != 0\n",
    "non_zero"
   ]
  },
  {
   "source": [
    "#### 11. Create a 3x3 identity matrix (★☆☆)"
   ],
   "cell_type": "markdown",
   "metadata": {}
  },
  {
   "cell_type": "code",
   "execution_count": 10,
   "metadata": {},
   "outputs": [
    {
     "output_type": "execute_result",
     "data": {
      "text/plain": [
       "array([[1., 0., 0.],\n",
       "       [0., 1., 0.],\n",
       "       [0., 0., 1.]])"
      ]
     },
     "metadata": {},
     "execution_count": 10
    }
   ],
   "source": [
    "np.eye(3)"
   ]
  },
  {
   "source": [
    "#### 12. Create a 3x3x3 array with random values (★☆☆)"
   ],
   "cell_type": "markdown",
   "metadata": {}
  },
  {
   "cell_type": "code",
   "execution_count": 11,
   "metadata": {},
   "outputs": [
    {
     "output_type": "execute_result",
     "data": {
      "text/plain": [
       "array([[[7, 9, 7],\n",
       "        [3, 5, 0],\n",
       "        [7, 0, 9]],\n",
       "\n",
       "       [[9, 7, 6],\n",
       "        [7, 4, 9],\n",
       "        [2, 0, 5]],\n",
       "\n",
       "       [[9, 2, 9],\n",
       "        [5, 1, 8],\n",
       "        [4, 9, 3]]])"
      ]
     },
     "metadata": {},
     "execution_count": 11
    }
   ],
   "source": [
    "np.random.randint(10,size =(3,3,3))"
   ]
  },
  {
   "source": [
    "#### 13. Create a 10x10 array with random values and find the minimum and maximum values (★☆☆)"
   ],
   "cell_type": "markdown",
   "metadata": {}
  },
  {
   "cell_type": "code",
   "execution_count": 12,
   "metadata": {},
   "outputs": [
    {
     "output_type": "stream",
     "name": "stdout",
     "text": [
      "[[0.45105828 0.91283143 0.12912822 0.80108014 0.94913218 0.60117835\n  0.93984517 0.30340001 0.56038409 0.95429662]\n [0.25589794 0.21223577 0.35736642 0.17965739 0.34023436 0.82893667\n  0.50004798 0.04476291 0.14712728 0.28650146]\n [0.18004956 0.77101037 0.34904598 0.59724903 0.55625322 0.18325209\n  0.1026613  0.99518136 0.14294738 0.6257897 ]\n [0.22252862 0.9148665  0.63399714 0.7558393  0.50604056 0.19396703\n  0.92057515 0.67818079 0.38874583 0.58002441]\n [0.92937566 0.8825508  0.02360694 0.52918638 0.82973514 0.28035446\n  0.2176677  0.41413006 0.68672133 0.45219399]\n [0.82655758 0.11664601 0.32768734 0.82079186 0.11089773 0.87697669\n  0.91354995 0.95721813 0.70812227 0.51261905]\n [0.95037877 0.76923902 0.44807195 0.19944838 0.34517856 0.82491726\n  0.35181892 0.8290996  0.15050866 0.82643653]\n [0.70935047 0.14664858 0.51050671 0.4524666  0.61430725 0.38765086\n  0.21579483 0.94921448 0.72107264 0.06677651]\n [0.1386691  0.20192062 0.35095428 0.57850744 0.72465174 0.17722567\n  0.33030823 0.63083143 0.96860679 0.52626623]\n [0.49914416 0.2576257  0.48797797 0.07097389 0.88124754 0.64581677\n  0.13030146 0.41661713 0.82228546 0.81697135]]\n0.023606941224836753\n0.995181360170558\n"
     ]
    }
   ],
   "source": [
    "min_max_arr = np.random.rand(10,10)\n",
    "print(min_max_arr)\n",
    "print(min_max_arr.min())\n",
    "print(min_max_arr.max())"
   ]
  },
  {
   "source": [
    "#### 14. Create a random vector of size 30 and find the mean value (★☆☆)"
   ],
   "cell_type": "markdown",
   "metadata": {}
  },
  {
   "cell_type": "code",
   "execution_count": 13,
   "metadata": {},
   "outputs": [
    {
     "output_type": "stream",
     "name": "stdout",
     "text": [
      "[0.48864403 0.38714491 0.47792423 0.55902941 0.35337752 0.19579803\n 0.64285547 0.69337758 0.93611736 0.07118739 0.40162958 0.42596152\n 0.36176485 0.32040208 0.28843629 0.34067662 0.94319351 0.11370289\n 0.89334361 0.09998875 0.4762633  0.83362371 0.58919566 0.50951066\n 0.59544107 0.13882206 0.12615908 0.23573212 0.07307297 0.40995751]\n"
     ]
    },
    {
     "output_type": "execute_result",
     "data": {
      "text/plain": [
       "0.43274445986170795"
      ]
     },
     "metadata": {},
     "execution_count": 13
    }
   ],
   "source": [
    "mean_vec = np.random.rand(30)\n",
    "print(mean_vec)\n",
    "mean = np.mean(mean_vec,axis=0)\n",
    "mean"
   ]
  },
  {
   "source": [
    "#### 15. Create a 2d array with 1 on the border and 0 inside (★☆☆)"
   ],
   "cell_type": "markdown",
   "metadata": {}
  },
  {
   "cell_type": "code",
   "execution_count": 14,
   "metadata": {},
   "outputs": [
    {
     "output_type": "stream",
     "name": "stdout",
     "text": [
      "[[1. 1. 1. 1. 1.]\n [1. 1. 1. 1. 1.]\n [1. 1. 1. 1. 1.]\n [1. 1. 1. 1. 1.]\n [1. 1. 1. 1. 1.]]\n[[0. 0. 0.]\n [0. 0. 0.]\n [0. 0. 0.]]\n"
     ]
    },
    {
     "output_type": "execute_result",
     "data": {
      "text/plain": [
       "array([[1., 1., 1., 1., 1.],\n",
       "       [1., 0., 0., 0., 1.],\n",
       "       [1., 0., 0., 0., 1.],\n",
       "       [1., 0., 0., 0., 1.],\n",
       "       [1., 1., 1., 1., 1.]])"
      ]
     },
     "metadata": {},
     "execution_count": 14
    }
   ],
   "source": [
    "ones_zeros = np.ones((5,5))\n",
    "zeros = np.zeros((3,3))\n",
    "print(ones_zeros)\n",
    "print(zeros)\n",
    "ones_zeros[1:-1,1:-1] = zeros\n",
    "ones_zeros"
   ]
  },
  {
   "source": [
    "#### 16. How to add a border (filled with 0's) around an existing array? (★☆☆)"
   ],
   "cell_type": "markdown",
   "metadata": {}
  },
  {
   "cell_type": "code",
   "execution_count": 15,
   "metadata": {},
   "outputs": [
    {
     "output_type": "execute_result",
     "data": {
      "text/plain": [
       "array([[0., 0., 0., 0., 0., 0., 0.],\n",
       "       [0., 1., 1., 1., 1., 1., 0.],\n",
       "       [0., 1., 0., 0., 0., 1., 0.],\n",
       "       [0., 1., 0., 0., 0., 1., 0.],\n",
       "       [0., 1., 0., 0., 0., 1., 0.],\n",
       "       [0., 1., 1., 1., 1., 1., 0.],\n",
       "       [0., 0., 0., 0., 0., 0., 0.]])"
      ]
     },
     "metadata": {},
     "execution_count": 15
    }
   ],
   "source": [
    "zero_2 = np.zeros((7,7))\n",
    "zero_2[1:-1,1:-1] = ones_zeros\n",
    "zero_2"
   ]
  },
  {
   "source": [
    "#### 17. What is the result of the following expression? (★☆☆)\n",
    "\n",
    "```python\n",
    "0 * np.nan\n",
    "np.nan == np.nan\n",
    "np.inf > np.nan\n",
    "np.nan - np.nan\n",
    "np.nan in set([np.nan])\n",
    "0.3 == 3 * 0.1\n",
    "```"
   ],
   "cell_type": "markdown",
   "metadata": {}
  },
  {
   "source": [
    "### False"
   ],
   "cell_type": "markdown",
   "metadata": {}
  },
  {
   "source": [
    "#### 18. Create a 5x5 matrix with values 1,2,3,4 just below the diagonal (★☆☆)"
   ],
   "cell_type": "markdown",
   "metadata": {}
  },
  {
   "cell_type": "code",
   "execution_count": 16,
   "metadata": {},
   "outputs": [
    {
     "output_type": "stream",
     "name": "stdout",
     "text": [
      "[[0. 0. 0. 0. 0.]\n [1. 0. 0. 0. 0.]\n [0. 2. 0. 0. 0.]\n [0. 0. 3. 0. 0.]\n [0. 0. 0. 4. 0.]]\n"
     ]
    }
   ],
   "source": [
    "arr_5 = np.zeros((5,5))\n",
    "temp_arr = np.arange(1,5)\n",
    "#print(arr_5)\n",
    "temp_arr\n",
    "arr_5[[1,2,3,4],[0,1,2,3]] = temp_arr\n",
    "print(arr_5)"
   ]
  },
  {
   "source": [
    "#### 19. Create a 8x8 matrix and fill it with a checkerboard pattern (★☆☆)"
   ],
   "cell_type": "markdown",
   "metadata": {}
  },
  {
   "cell_type": "code",
   "execution_count": 17,
   "metadata": {},
   "outputs": [
    {
     "output_type": "stream",
     "name": "stdout",
     "text": [
      "[[0 1 0 1 0 1 0 1]\n [1 0 1 0 1 0 1 0]\n [0 1 0 1 0 1 0 1]\n [1 0 1 0 1 0 1 0]\n [0 1 0 1 0 1 0 1]\n [1 0 1 0 1 0 1 0]\n [0 1 0 1 0 1 0 1]\n [1 0 1 0 1 0 1 0]]\n"
     ]
    }
   ],
   "source": [
    "re = np.r_[ 4*[0,1] ]              \n",
    "ro = np.r_[ 4*[1,0] ]\n",
    "checkerboard = np.row_stack(4*(re, ro))\n",
    "print(checkerboard)\n"
   ]
  },
  {
   "source": [
    "#### 20. Consider a (6,7,8) shape array, what is the index (x,y,z) of the 100th element?"
   ],
   "cell_type": "markdown",
   "metadata": {}
  },
  {
   "source": [
    "There are 6 matrixes 56(7*8) elements.\n",
    "That means the 100th element is in the second matix as the 44th element(index x = 1).\n",
    "44 // no.of raws 7 --> index y = 5\n",
    "index z = 1\n",
    "## 100th_index = (1, 5, 1) \n"
   ],
   "cell_type": "markdown",
   "metadata": {}
  },
  {
   "source": [
    "#### 21. Create a checkerboard 8x8 matrix using the tile function (★☆☆)"
   ],
   "cell_type": "markdown",
   "metadata": {}
  },
  {
   "source": [
    "#### 22. Normalize a 5x5 random matrix (★☆☆)"
   ],
   "cell_type": "markdown",
   "metadata": {}
  },
  {
   "cell_type": "code",
   "execution_count": 18,
   "metadata": {},
   "outputs": [
    {
     "output_type": "stream",
     "name": "stdout",
     "text": [
      "[[0.41218119 0.22442616 0.26127218 0.59448562 0.59838387]\n [0.63963213 0.185202   0.69661104 0.19357017 0.18394183]\n [0.35945065 0.05899462 0.66082064 0.47590547 0.451824  ]\n [0.64291522 0.07681042 0.38312062 0.64759574 0.1208244 ]\n [0.51666003 0.24464336 0.45480119 0.51822418 0.44476018]]\n"
     ]
    }
   ],
   "source": [
    "def normalized_raws(x):\n",
    "    x_norm = np.linalg.norm(x, ord = 2, axis = 1, keepdims = True)\n",
    "    x = x/x_norm\n",
    "    return x\n",
    "\n",
    "abnormal = np.random.rand(5,5)\t\n",
    "print(normalized_raws(abnormal))"
   ]
  },
  {
   "cell_type": "code",
   "execution_count": null,
   "metadata": {},
   "outputs": [],
   "source": []
  }
 ]
}