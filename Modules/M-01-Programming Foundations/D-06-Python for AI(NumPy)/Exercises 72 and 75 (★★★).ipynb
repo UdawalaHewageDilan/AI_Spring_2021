{
 "cells": [
  {
   "cell_type": "code",
   "execution_count": 21,
   "id": "complimentary-handbook",
   "metadata": {
    "slideshow": {
     "slide_type": "slide"
    }
   },
   "outputs": [],
   "source": [
    "# Import the needed libraries\n",
    "import numpy as np"
   ]
  },
  {
   "cell_type": "markdown",
   "id": "pacific-kentucky",
   "metadata": {},
   "source": [
    "**72. How to swap two rows of an array?** "
   ]
  },
  {
   "cell_type": "code",
   "execution_count": 12,
   "id": "proper-reservoir",
   "metadata": {},
   "outputs": [
    {
     "output_type": "stream",
     "name": "stdout",
     "text": [
      "[[1 2 3]\n [4 5 6]\n [7 8 9]]\n"
     ]
    },
    {
     "output_type": "execute_result",
     "data": {
      "text/plain": [
       "array([[4, 5, 6],\n",
       "       [1, 2, 3],\n",
       "       [7, 8, 9]])"
      ]
     },
     "metadata": {},
     "execution_count": 12
    }
   ],
   "source": [
    "arr_to_swap = np.array([[1,2,3],[4,5,6],[7,8,9]])\n",
    "print(arr_to_swap)\n",
    "arr_to_swap[[0,1]] = arr_to_swap[[1,0]]\n",
    "arr_to_swap"
   ]
  },
  {
   "cell_type": "markdown",
   "id": "outer-encoding",
   "metadata": {},
   "source": [
    "**75. How to compute averages using a sliding window over an array?**"
   ]
  },
  {
   "cell_type": "code",
   "execution_count": 34,
   "id": "active-reply",
   "metadata": {},
   "outputs": [
    {
     "output_type": "stream",
     "name": "stdout",
     "text": [
      "[ 1  2  3  4  5  6  7  8  9 10 11 12 13 14 15 16 17 18 19 20]\n[[ 0  1  2  3  4  5]\n [ 2  3  4  5  6  7]\n [ 4  5  6  7  8  9]\n [ 6  7  8  9 10 11]\n [ 8  9 10 11 12 13]\n [10 11 12 13 14 15]\n [12 13 14 15 16 17]\n [14 15 16 17 18 19]]\n"
     ]
    },
    {
     "output_type": "execute_result",
     "data": {
      "text/plain": [
       "array([ 3.5,  5.5,  7.5,  9.5, 11.5, 13.5, 15.5, 17.5])"
      ]
     },
     "metadata": {},
     "execution_count": 34
    }
   ],
   "source": [
    "arr_mean = np.arange(1,21)\n",
    "print(arr_mean)\n",
    "indexer = np.arange(6)[None, :] + 2*np.arange(8)[:, None]\n",
    "print(indexer)\n",
    "arr_mean[indexer]\n",
    "np.mean(arr_mean[indexer], axis= 1)"
   ]
  },
  {
   "cell_type": "code",
   "execution_count": null,
   "metadata": {},
   "outputs": [],
   "source": []
  }
 ],
 "metadata": {
  "kernelspec": {
   "display_name": "Python 3",
   "language": "python",
   "name": "python3"
  },
  "language_info": {
   "codemirror_mode": {
    "name": "ipython",
    "version": 3
   },
   "file_extension": ".py",
   "mimetype": "text/x-python",
   "name": "python",
   "nbconvert_exporter": "python",
   "pygments_lexer": "ipython3",
   "version": "3.8.8-final"
  }
 },
 "nbformat": 4,
 "nbformat_minor": 5
}