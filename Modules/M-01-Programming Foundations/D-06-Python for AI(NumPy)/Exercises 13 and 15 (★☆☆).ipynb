{
 "cells": [
  {
   "cell_type": "code",
   "execution_count": null,
   "id": "biological-worcester",
   "metadata": {},
   "outputs": [],
   "source": [
    "# Import the needed libraries"
   ]
  },
  {
   "cell_type": "code",
   "execution_count": null,
   "metadata": {},
   "outputs": [],
   "source": [
    "import numpy as np"
   ]
  },
  {
   "cell_type": "markdown",
   "id": "champion-greensboro",
   "metadata": {},
   "source": [
    "**13. Create a 10x10 array with random values and find the minimum and maximum values**"
   ]
  },
  {
   "cell_type": "code",
   "execution_count": 4,
   "id": "joint-explorer",
   "metadata": {},
   "outputs": [
    {
     "output_type": "stream",
     "name": "stdout",
     "text": [
      "[[5.66982427e-01 7.26363450e-01 8.19611685e-01 1.67420414e-01\n  4.29028330e-02 7.97220132e-01 7.27920866e-02 6.50847137e-01\n  7.95110605e-01 1.87909805e-01]\n [3.52578737e-01 5.65008233e-01 9.60136820e-01 8.47821218e-01\n  5.30787030e-01 4.94416050e-01 6.12843998e-01 9.53579682e-02\n  2.36225252e-01 8.18505190e-02]\n [4.66093863e-02 3.55430940e-01 4.43682533e-01 8.50738889e-01\n  6.54966069e-01 1.71866500e-01 8.20034266e-01 3.10146277e-01\n  9.33782944e-01 6.63427888e-01]\n [2.55474994e-01 4.42856748e-01 1.89483856e-01 2.37971734e-01\n  6.32287587e-01 8.85733156e-01 3.51063156e-01 8.59096211e-01\n  6.62638381e-01 1.76294494e-01]\n [6.94833967e-01 1.73360559e-01 3.16472388e-01 4.40432230e-01\n  1.40519137e-01 6.79715298e-01 5.20613582e-01 8.84940843e-02\n  1.60010849e-01 1.91178962e-01]\n [2.29115548e-01 8.34822250e-02 2.84494322e-01 7.54337537e-04\n  8.57889456e-02 7.43780872e-01 7.54248087e-01 7.94968096e-01\n  1.07520841e-01 4.80925554e-01]\n [2.52027511e-01 2.97735617e-01 5.58842626e-01 5.48925275e-01\n  9.32775177e-01 9.26337076e-01 1.72047181e-01 4.15931369e-01\n  6.41673471e-01 3.54328414e-01]\n [5.47182173e-01 2.42009379e-01 4.50536408e-01 1.14688307e-01\n  6.76911348e-01 9.80581532e-01 5.19905943e-02 9.32554558e-01\n  6.84473519e-01 6.84230420e-01]\n [8.84378757e-04 7.75886393e-01 2.34929521e-01 8.72047491e-01\n  2.49618294e-01 5.23031534e-01 2.89848400e-01 5.46525201e-01\n  9.41133909e-01 7.39383187e-01]\n [7.31501652e-01 8.31641276e-01 8.69174837e-01 8.55543461e-01\n  6.91148499e-01 5.75226449e-01 9.31201535e-04 7.98612196e-01\n  6.99112050e-01 6.21973584e-01]]\n0.0007543375373577632\n0.9805815316744283\n"
     ]
    }
   ],
   "source": [
    "min_max_arr = np.random.rand(10,10)\n",
    "print(min_max_arr)\n",
    "print(min_max_arr.min())\n",
    "print(min_max_arr.max())"
   ]
  },
  {
   "cell_type": "markdown",
   "id": "exempt-organ",
   "metadata": {},
   "source": [
    "**15. Create a 2d array with 1 on the border and 0 inside**"
   ]
  },
  {
   "cell_type": "code",
   "execution_count": 3,
   "id": "sufficient-facility",
   "metadata": {},
   "outputs": [
    {
     "output_type": "stream",
     "name": "stdout",
     "text": [
      "[[1. 1. 1. 1. 1.]\n [1. 1. 1. 1. 1.]\n [1. 1. 1. 1. 1.]\n [1. 1. 1. 1. 1.]\n [1. 1. 1. 1. 1.]]\n[[0. 0. 0.]\n [0. 0. 0.]\n [0. 0. 0.]]\n"
     ]
    },
    {
     "output_type": "execute_result",
     "data": {
      "text/plain": [
       "array([[1., 1., 1., 1., 1.],\n",
       "       [1., 0., 0., 0., 1.],\n",
       "       [1., 0., 0., 0., 1.],\n",
       "       [1., 0., 0., 0., 1.],\n",
       "       [1., 1., 1., 1., 1.]])"
      ]
     },
     "metadata": {},
     "execution_count": 3
    }
   ],
   "source": [
    "ones_zeros = np.ones((5,5))\n",
    "zeros = np.zeros((3,3))\n",
    "print(ones_zeros)\n",
    "print(zeros)\n",
    "ones_zeros[1:-1,1:-1] = zeros\n",
    "ones_zeros"
   ]
  },
  {
   "cell_type": "code",
   "execution_count": null,
   "metadata": {},
   "outputs": [],
   "source": []
  }
 ],
 "metadata": {
  "kernelspec": {
   "display_name": "Python 3",
   "language": "python",
   "name": "python3"
  },
  "language_info": {
   "codemirror_mode": {
    "name": "ipython",
    "version": 3
   },
   "file_extension": ".py",
   "mimetype": "text/x-python",
   "name": "python",
   "nbconvert_exporter": "python",
   "pygments_lexer": "ipython3",
   "version": "3.8.8-final"
  }
 },
 "nbformat": 4,
 "nbformat_minor": 5
}