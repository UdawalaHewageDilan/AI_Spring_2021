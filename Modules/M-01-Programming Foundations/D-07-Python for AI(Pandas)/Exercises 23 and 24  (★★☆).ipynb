{
 "cells": [
  {
   "cell_type": "code",
   "execution_count": 2,
   "id": "comic-license",
   "metadata": {},
   "outputs": [],
   "source": [
    "# import the needed libraries and datasets\n",
    "import pandas as pd\n",
    "import numpy as np"
   ]
  },
  {
   "cell_type": "markdown",
   "id": "after-lithuania",
   "metadata": {},
   "source": [
    "**23.** Given a DataFrame of numeric values, say\n",
    "```python\n",
    "df = pd.DataFrame(np.random.random(size=(5, 3))) # a 5x3 frame of float values\n",
    "```\n",
    "\n",
    "how do you subtract the row mean from each element in the row?"
   ]
  },
  {
   "cell_type": "code",
   "execution_count": 9,
   "id": "supported-bicycle",
   "metadata": {},
   "outputs": [
    {
     "output_type": "stream",
     "name": "stdout",
     "text": [
      "          0         1         2\n0  0.382436  0.154947  0.802812\n1  0.742694  0.376679  0.479574\n2  0.001150  0.404796  0.424441\n3  0.193681  0.288700  0.393118\n4  0.311691  0.306281  0.289935\n"
     ]
    },
    {
     "output_type": "execute_result",
     "data": {
      "text/plain": [
       "0    0.446732\n",
       "1    0.532982\n",
       "2    0.276796\n",
       "3    0.291833\n",
       "4    0.302636\n",
       "dtype: float64"
      ]
     },
     "metadata": {},
     "execution_count": 9
    }
   ],
   "source": [
    "df = pd.DataFrame(np.random.random(size=(5, 3))) # a 5x3 frame of float values\n",
    "print(df)\n",
    "df.mean(axis=1)"
   ]
  },
  {
   "cell_type": "markdown",
   "id": "severe-count",
   "metadata": {},
   "source": [
    "**24.** Suppose you have DataFrame with 10 columns of real numbers, for example:\n",
    "\n",
    "```python\n",
    "df = pd.DataFrame(np.random.random(size=(5, 10)), columns=list('abcdefghij'))\n",
    "```\n",
    "Which column of numbers has the smallest sum? (Find that column's label.)"
   ]
  },
  {
   "cell_type": "code",
   "execution_count": 12,
   "id": "czech-superior",
   "metadata": {},
   "outputs": [
    {
     "output_type": "execute_result",
     "data": {
      "text/plain": [
       "          a         b         c         d         e         f         g  \\\n",
       "0  0.275491  0.810014  0.377475  0.521121  0.963819  0.020224  0.678379   \n",
       "1  0.250544  0.102117  0.970681  0.937228  0.172947  0.606626  0.282490   \n",
       "2  0.451081  0.000171  0.623811  0.245424  0.319659  0.703153  0.414700   \n",
       "3  0.820256  0.825034  0.980403  0.146048  0.313654  0.538190  0.089725   \n",
       "4  0.463438  0.853416  0.921359  0.174178  0.871133  0.636839  0.773625   \n",
       "\n",
       "          h         i         j  \n",
       "0  0.545981  0.501864  0.563379  \n",
       "1  0.165488  0.479620  0.683925  \n",
       "2  0.453588  0.317533  0.377669  \n",
       "3  0.720939  0.333642  0.625282  \n",
       "4  0.074969  0.914282  0.307666  "
      ],
      "text/html": "<div>\n<style scoped>\n    .dataframe tbody tr th:only-of-type {\n        vertical-align: middle;\n    }\n\n    .dataframe tbody tr th {\n        vertical-align: top;\n    }\n\n    .dataframe thead th {\n        text-align: right;\n    }\n</style>\n<table border=\"1\" class=\"dataframe\">\n  <thead>\n    <tr style=\"text-align: right;\">\n      <th></th>\n      <th>a</th>\n      <th>b</th>\n      <th>c</th>\n      <th>d</th>\n      <th>e</th>\n      <th>f</th>\n      <th>g</th>\n      <th>h</th>\n      <th>i</th>\n      <th>j</th>\n    </tr>\n  </thead>\n  <tbody>\n    <tr>\n      <th>0</th>\n      <td>0.275491</td>\n      <td>0.810014</td>\n      <td>0.377475</td>\n      <td>0.521121</td>\n      <td>0.963819</td>\n      <td>0.020224</td>\n      <td>0.678379</td>\n      <td>0.545981</td>\n      <td>0.501864</td>\n      <td>0.563379</td>\n    </tr>\n    <tr>\n      <th>1</th>\n      <td>0.250544</td>\n      <td>0.102117</td>\n      <td>0.970681</td>\n      <td>0.937228</td>\n      <td>0.172947</td>\n      <td>0.606626</td>\n      <td>0.282490</td>\n      <td>0.165488</td>\n      <td>0.479620</td>\n      <td>0.683925</td>\n    </tr>\n    <tr>\n      <th>2</th>\n      <td>0.451081</td>\n      <td>0.000171</td>\n      <td>0.623811</td>\n      <td>0.245424</td>\n      <td>0.319659</td>\n      <td>0.703153</td>\n      <td>0.414700</td>\n      <td>0.453588</td>\n      <td>0.317533</td>\n      <td>0.377669</td>\n    </tr>\n    <tr>\n      <th>3</th>\n      <td>0.820256</td>\n      <td>0.825034</td>\n      <td>0.980403</td>\n      <td>0.146048</td>\n      <td>0.313654</td>\n      <td>0.538190</td>\n      <td>0.089725</td>\n      <td>0.720939</td>\n      <td>0.333642</td>\n      <td>0.625282</td>\n    </tr>\n    <tr>\n      <th>4</th>\n      <td>0.463438</td>\n      <td>0.853416</td>\n      <td>0.921359</td>\n      <td>0.174178</td>\n      <td>0.871133</td>\n      <td>0.636839</td>\n      <td>0.773625</td>\n      <td>0.074969</td>\n      <td>0.914282</td>\n      <td>0.307666</td>\n    </tr>\n  </tbody>\n</table>\n</div>"
     },
     "metadata": {},
     "execution_count": 12
    }
   ],
   "source": [
    "df2 = pd.DataFrame(np.random.random(size=(5, 10)), columns=list('abcdefghij'))\n",
    "df2"
   ]
  },
  {
   "cell_type": "code",
   "execution_count": 16,
   "metadata": {},
   "outputs": [
    {
     "output_type": "stream",
     "name": "stdout",
     "text": [
      "0    5.257747\n1    4.651667\n2    3.906790\n3    5.393173\n4    5.990904\ndtype: float64\n"
     ]
    },
    {
     "output_type": "execute_result",
     "data": {
      "text/plain": [
       "5.990903874569549"
      ]
     },
     "metadata": {},
     "execution_count": 16
    }
   ],
   "source": [
    "print(df2.sum(axis=1))\n",
    "max(df2.sum(axis=1))"
   ]
  },
  {
   "cell_type": "code",
   "execution_count": null,
   "metadata": {},
   "outputs": [],
   "source": []
  }
 ],
 "metadata": {
  "kernelspec": {
   "display_name": "Python 3",
   "language": "python",
   "name": "python3"
  },
  "language_info": {
   "codemirror_mode": {
    "name": "ipython",
    "version": 3
   },
   "file_extension": ".py",
   "mimetype": "text/x-python",
   "name": "python",
   "nbconvert_exporter": "python",
   "pygments_lexer": "ipython3",
   "version": "3.8.8-final"
  }
 },
 "nbformat": 4,
 "nbformat_minor": 5
}