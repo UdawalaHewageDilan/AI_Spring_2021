{
 "cells": [
  {
   "cell_type": "markdown",
   "metadata": {},
   "source": [
    "Here you have a collection of guided exercises for the first class on Python. <br>\n",
    "The exercises are divided by topic, following the topics reviewed during the theory session, and for each topic you have some mandatory exercises, and other optional exercises, which you are invited to do if you still have time after the mandatory exercises. <br>\n",
    "\n",
    "Remember that you have 5 hours to solve these exercises, after which we will review the most interesting exercises together. If you don't finish all the exercises, you can work on them tonightor tomorrow. \n",
    "\n",
    "At the end of the class, we will upload the code with the solutions of the exercises so that you can review them again if needed. If you still have not finished some exercises, try to do them first by yourself, before taking a look at the solutions: you are doing these exercises for yourself, so it is always the best to do them your way first, as it is the fastest way to learn!"
   ]
  },
  {
   "cell_type": "markdown",
   "metadata": {},
   "source": [
    "**Exercise 1.1:** The cover price of a book is 24.95 EUR, but bookstores get a 40 percent discount. Shipping costs 3 EUR for the first copy and 75 cents for each additional copy. **Calculate the total wholesale costs for 60 copies**. "
   ]
  },
  {
   "cell_type": "code",
   "execution_count": 3,
   "metadata": {},
   "outputs": [
    {
     "name": "stdout",
     "output_type": "stream",
     "text": [
      "Enter no. of copies: 12\n",
      "The Total wholesale cost: 190.89EUR\n"
     ]
    }
   ],
   "source": [
    "def whole_sale_price(x):\n",
    "    cover_price = 24.95\n",
    "    store_price = (cover_price * (60/100)) * x\n",
    "    shipping_cost = 3\n",
    "    for i in range(x-1):\n",
    "        shipping_cost += 0.75\n",
    "    full_cost = store_price + shipping_cost\n",
    "    return round(full_cost, 2)\n",
    "\n",
    "\n",
    "number_of_copies = int(input(\"Enter no. of copies: \"))\n",
    "print(f\"The Total wholesale cost: {whole_sale_price(number_of_copies)}EUR\")"
   ]
  },
  {
   "cell_type": "markdown",
   "metadata": {},
   "source": [
    "**Exercise 1.2:** When something is wrong with your code, Python will raise errors. Often these will be \"syntax errors\" that signal that something is wrong with the form of your code (e.g., the code in the previous exercise raised a `SyntaxError`). There are also \"runtime errors\", which signal that your code was in itself formally correct, but that something went wrong during the code's execution. A good example is the `ZeroDivisionError`, which indicates that you tried to divide a number by zero (which, as you may know, is not allowed). Try to make Python **raise such a `ZeroDivisionError`.**"
   ]
  },
  {
   "cell_type": "code",
   "execution_count": 4,
   "metadata": {},
   "outputs": [
    {
     "ename": "ZeroDivisionError",
     "evalue": "division by zero",
     "output_type": "error",
     "traceback": [
      "\u001b[1;31m---------------------------------------------------------------------------\u001b[0m",
      "\u001b[1;31mZeroDivisionError\u001b[0m                         Traceback (most recent call last)",
      "\u001b[1;32m<ipython-input-4-bb1fd3bcd644>\u001b[0m in \u001b[0;36m<module>\u001b[1;34m\u001b[0m\n\u001b[0;32m      1\u001b[0m \u001b[0ma\u001b[0m \u001b[1;33m=\u001b[0m \u001b[1;36m12\u001b[0m\u001b[1;33m\u001b[0m\u001b[1;33m\u001b[0m\u001b[0m\n\u001b[1;32m----> 2\u001b[1;33m \u001b[0mb\u001b[0m \u001b[1;33m=\u001b[0m \u001b[0ma\u001b[0m \u001b[1;33m/\u001b[0m \u001b[1;36m0\u001b[0m\u001b[1;33m\u001b[0m\u001b[1;33m\u001b[0m\u001b[0m\n\u001b[0m",
      "\u001b[1;31mZeroDivisionError\u001b[0m: division by zero"
     ]
    }
   ],
   "source": [
    "a = 12\n",
    "b = a / 0"
   ]
  },
  {
   "cell_type": "markdown",
   "metadata": {},
   "source": [
    "**Exercise 5.1**: Create a countdown function that starts at a certain count, and counts down to zero. Instead of zero, print \"Blast off!\". Use a `for` loop. \n"
   ]
  },
  {
   "cell_type": "code",
   "execution_count": 1,
   "metadata": {},
   "outputs": [
    {
     "name": "stdout",
     "output_type": "stream",
     "text": [
      "22\n",
      "21\n",
      "20\n",
      "19\n",
      "18\n",
      "17\n",
      "16\n",
      "15\n",
      "14\n",
      "13\n",
      "12\n",
      "11\n",
      "10\n",
      "9\n",
      "8\n",
      "7\n",
      "6\n",
      "5\n",
      "4\n",
      "3\n",
      "2\n",
      "1\n",
      "Blast off!\n",
      "None\n"
     ]
    }
   ],
   "source": [
    "# Countdown\n",
    "def countdown(x):\n",
    "    \"\"\"\n",
    "    20\n",
    "    19\n",
    "    18\n",
    "    17\n",
    "    16\n",
    "    15\n",
    "    14\n",
    "    13\n",
    "    12\n",
    "    11\n",
    "    10\n",
    "    9\n",
    "    8\n",
    "    7\n",
    "    6\n",
    "    5\n",
    "    4\n",
    "    3\n",
    "    2\n",
    "    1\n",
    "    Blast off!\n",
    "    \"\"\"\n",
    "    for i in range(x):\n",
    "        if i > -1:\n",
    "            print(x-i)\n",
    "        \n",
    "    print(\"Blast off!\")\n",
    "            \n",
    "            \n",
    "print(countdown(22))\n"
   ]
  },
  {
   "cell_type": "markdown",
   "metadata": {},
   "source": [
    "**Exercise 5.2:** Write and test three functions that return the largest, the smallest, and the number of dividables by 3 in a given collection of numbers. Use the algorithm described earlier in the Part 5 lecture :)"
   ]
  },
  {
   "cell_type": "markdown",
   "metadata": {},
   "source": [
    "## First go at it:\n",
    "The code works but doesn't respect the prompt."
   ]
  },
  {
   "cell_type": "code",
   "execution_count": 20,
   "metadata": {},
   "outputs": [
    {
     "name": "stdout",
     "output_type": "stream",
     "text": [
      "(663, 2, 5)\n"
     ]
    }
   ],
   "source": [
    "# Your functions\n",
    "def main(x):\n",
    "    \"\"\"\n",
    "    a = [2, 4, 6, 12, 15, 99, 100]\n",
    "    100\n",
    "    2\n",
    "    4\n",
    "    \"\"\"\n",
    "    largest = x[1]\n",
    "    smallest = x[1]\n",
    "    dividable_three = 0\n",
    "    for num in x:\n",
    "        if num % 3 == 0:\n",
    "            dividable_three += 1\n",
    "        if largest < num:\n",
    "            largest = num\n",
    "        if smallest > num:\n",
    "            smallest = num\n",
    "    return largest, smallest, dividable_three\n",
    "\n",
    "\n",
    "\n",
    "a = [2, 4, 6, 12, 15, 99, 100, 124, 663]\n",
    "print(main(a))"
   ]
  },
  {
   "cell_type": "markdown",
   "metadata": {},
   "source": [
    "## Second try:\n",
    "Made three seperate functions and a main."
   ]
  },
  {
   "cell_type": "code",
   "execution_count": 8,
   "metadata": {},
   "outputs": [
    {
     "name": "stdout",
     "output_type": "stream",
     "text": [
      "999\n",
      "2\n",
      "5\n"
     ]
    }
   ],
   "source": [
    "a = [2, 4, 6, 12, 15, 99, 100, 999]\n",
    "def largest_no(x):\n",
    "    \"\"\"Finds the largest number in a given list\"\"\"\n",
    "    largest = x[0]\n",
    "    for num in x:\n",
    "        if largest < num:\n",
    "            largest = num\n",
    "    return largest\n",
    "\n",
    "\n",
    "def smallest_no(x):\n",
    "    \"\"\"Finds the smallest number in a given list\"\"\"\n",
    "    smallest= x[0]\n",
    "    for num in x:\n",
    "        if smallest > num:\n",
    "            smallest = num\n",
    "    return smallest\n",
    "\n",
    "\n",
    "def divisables(x):\n",
    "    \"\"\"Finds the number of elements in a list that are divisable by 3\"\"\"\n",
    "    divis = 0\n",
    "    for num in x:\n",
    "        if num % 3 == 0:\n",
    "            divis += 1\n",
    "    return divis\n",
    "\n",
    "\n",
    "def main():\n",
    "    print(largest_no(a))\n",
    "    print(smallest_no(a))\n",
    "    print(divisables(a))\n",
    "    \n",
    "if __name__ == \"__main__\":\n",
    "    main()\n",
    "    "
   ]
  },
  {
   "cell_type": "code",
   "execution_count": null,
   "metadata": {},
   "outputs": [],
   "source": []
  }
 ],
 "metadata": {
  "kernelspec": {
   "display_name": "Python 3",
   "language": "python",
   "name": "python3"
  },
  "language_info": {
   "codemirror_mode": {
    "name": "ipython",
    "version": 3
   },
   "file_extension": ".py",
   "mimetype": "text/x-python",
   "name": "python",
   "nbconvert_exporter": "python",
   "pygments_lexer": "ipython3",
   "version": "3.8.5"
  }
 },
 "nbformat": 4,
 "nbformat_minor": 4
}
