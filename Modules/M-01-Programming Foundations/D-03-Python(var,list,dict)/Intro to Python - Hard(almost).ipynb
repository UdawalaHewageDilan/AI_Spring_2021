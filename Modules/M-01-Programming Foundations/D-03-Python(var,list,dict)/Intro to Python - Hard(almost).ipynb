{
 "cells": [
  {
   "cell_type": "markdown",
   "metadata": {},
   "source": [
    "Here you have a collection of guided exercises for the first class on Python. <br>\n",
    "The exercises are divided by topic, following the topics reviewed during the theory session, and for each topic you have some mandatory exercises, and other optional exercises, which you are invited to do if you still have time after the mandatory exercises. <br>\n",
    "\n",
    "Remember that you have 5 hours to solve these exercises, after which we will review the most interesting exercises together. If you don't finish all the exercises, you can work on them tonightor tomorrow. \n",
    "\n",
    "At the end of the class, we will upload the code with the solutions of the exercises so that you can review them again if needed. If you still have not finished some exercises, try to do them first by yourself, before taking a look at the solutions: you are doing these exercises for yourself, so it is always the best to do them your way first, as it is the fastest way to learn!"
   ]
  },
  {
   "cell_type": "markdown",
   "metadata": {},
   "source": [
    "**Exercise 4.1 (🌶️🌶️):** Define a function that receives a string parameter, and returns an integer indicating the count for all the letters of the alphabet that there are in the string. The expected output format is in a **dictionary** with the relevant keys and values. The capital version of a lower case letter is considered to be the same letter.\n",
    "\n",
    "This should sound quite familiar, try to do it without looking at your old code ;)\n",
    "\n",
    "**What is the challenge?**: Don't code 27 times the same line of code, learn how to do things that scale well."
   ]
  },
  {
   "cell_type": "code",
   "execution_count": 1,
   "metadata": {},
   "outputs": [
    {
     "name": "stdout",
     "output_type": "stream",
     "text": [
      "{'h': 2, 'e': 1, 'l': 3, 'o': 2, ' ': 4, 'p': 1, 'y': 1, 't': 1, 'n': 2, ',': 1, 'i': 2, 'a': 2, 'm': 1, 'd': 1}\n"
     ]
    }
   ],
   "source": [
    "#Your Code Here\n",
    "def letter_freq(x):\n",
    "    x = text.lower()\n",
    "    letter = []\n",
    "\n",
    "    for i in x.strip('\\w'):\n",
    "        letter.append(i)\n",
    "    dict_letter = {}\n",
    "    for n in letter:\n",
    "        if n not in dict_letter:\n",
    "            dict_letter[n] = 0\n",
    "        if n in dict_letter:\n",
    "            dict_letter[n] += 1\n",
    "\n",
    "    return dict_letter\n",
    "\n",
    "text = \"Hello Python, I am Dilan\"\n",
    "print(letter_freq(text))"
   ]
  },
  {
   "cell_type": "markdown",
   "metadata": {},
   "source": [
    "**Exercise 5.6 (🌶️🌶️):** A prime number is a positive integer that is dividable by exactly two different numbers, namely 1 and itself. The lowest (and only even) prime number is 2. The first 10 prime numbers are 2, 3, 5, 7, 11, 13, 17, 19, 23, and 29. Write a function that returns a **list off all prime numbers** below a given number.\n",
    "\n",
    "Hint: In a loop where you test the possible dividers of the number, you can conclude that the number is not prime as soon as you encounter a number other than 1 or the number itself that divides it. However, you can *only* conclude that it actually *is* prime after you have tested all possible dividers.\n",
    "\n",
    "**What is the challenge here? You have to try to optimize your code and try to make it work for the highest prime number you can encounter before you run out of memory. For low numbers you should know how to do it already**"
   ]
  },
  {
   "cell_type": "code",
   "execution_count": 2,
   "metadata": {},
   "outputs": [
    {
     "name": "stdout",
     "output_type": "stream",
     "text": [
      "[2, 3, 5, 7, 11, 13, 17, 19, 23, 29, 31, 37, 41, 43, 47]\n"
     ]
    }
   ],
   "source": [
    "#Your Code Here\n",
    "def prime(num):\n",
    "    \"\"\"Returns True if given number is prime\n",
    "    and False otherwise\"\"\"\n",
    "    i = 2\n",
    "    if num == 1:\n",
    "        return False\n",
    "    elif num == 2:\n",
    "        return True\n",
    "    else:\n",
    "        while num % i != 0:\n",
    "            i += 1\n",
    "            if i >= num:\n",
    "                return True\n",
    "    return False\n",
    "\n",
    "\n",
    "def prime_list(x):\n",
    "    list_primes = []\n",
    "    for num in range(x):\n",
    "        if prime(num):\n",
    "            list_primes.append(num)\n",
    "\n",
    "    return list_primes\n",
    "\n",
    "\n",
    "print(prime_list(50))"
   ]
  },
  {
   "cell_type": "markdown",
   "metadata": {},
   "source": [
    "**Exercise 5.7 (🌶️🌶️):** Write a function that prints all integers between the parameters `a` and `b` that can be written as the sum of two squares. Produce output in the form of `z = x**2 + y**2`, e.g., `58 = 3**2 + 7**2`. If a number occurs on the list with multiple *different* ways of writing it as the sum of two squares, that is acceptable. "
   ]
  },
  {
   "cell_type": "code",
   "execution_count": 1,
   "metadata": {},
   "outputs": [
    {
     "name": "stdout",
     "output_type": "stream",
     "text": [
      "2 = 1 ** 2 + 1 ** 2\n",
      "4 = 0 ** 2 + 2 ** 2\n",
      "5 = 1 ** 2 + 2 ** 2\n",
      "8 = 2 ** 2 + 2 ** 2\n",
      "9 = 0 ** 2 + 3 ** 2\n",
      "10 = 1 ** 2 + 3 ** 2\n",
      "13 = 2 ** 2 + 3 ** 2\n",
      "16 = 0 ** 2 + 4 ** 2\n",
      "17 = 1 ** 2 + 4 ** 2\n",
      "18 = 3 ** 2 + 3 ** 2\n",
      "20 = 2 ** 2 + 4 ** 2\n",
      "None\n"
     ]
    }
   ],
   "source": [
    "#Your Code Here\n",
    "def square_sums(x):\n",
    "    \"\"\"Returns a list of numbers the add up to the given number when squared\"\"\"\n",
    "    from math import sqrt\n",
    "    square_l = []\n",
    "    factor_l = []\n",
    "    for i in range(x):\n",
    "        square_l.append(i**2)\n",
    "\n",
    "    for square in square_l:\n",
    "        for j in range(len(square_l)):\n",
    "            if x == square + square_l[j]:\n",
    "                factor_l.append(int(sqrt(square)))\n",
    "                factor_l.append(int(sqrt(square_l[j])))\n",
    "    return factor_l\n",
    "\n",
    "\n",
    "def sum_squares(a,b):\n",
    "    \"\"\"\n",
    "    2 = 1**2 + 1**2\n",
    "    4 = 0**2 + 2**2\n",
    "    4 = 2**2 + 0**2\n",
    "    5 = 1**2 + 2**2\n",
    "    5 = 2**2 + 1**2\n",
    "    8 = 2**2 + 2**2\n",
    "    9 = 0**2 + 3**2\n",
    "    9 = 3**2 + 0**2\n",
    "    \"\"\"\n",
    "    no_list = []\n",
    "    y = []\n",
    "    for num in range(a, b):\n",
    "        no_list.append(num)\n",
    "\n",
    "    for i in no_list:\n",
    "        y.append(square_sums(i))\n",
    "\n",
    "    for num in no_list:\n",
    "        for ele in y:\n",
    "            if len(ele) != 0 and (num == ele[0]**2 + ele[1]**2) :\n",
    "                print(f\"{num} = {ele[0]} ** 2 + {ele[1]} ** 2\")\n",
    "    return\n",
    "\n",
    "\n",
    "print(sum_squares(2, 22))"
   ]
  },
  {
   "cell_type": "markdown",
   "metadata": {},
   "source": [
    "## Need HELP!!"
   ]
  },
  {
   "cell_type": "code",
   "execution_count": null,
   "metadata": {},
   "outputs": [],
   "source": []
  }
 ],
 "metadata": {
  "kernelspec": {
   "display_name": "Python 3",
   "language": "python",
   "name": "python3"
  },
  "language_info": {
   "codemirror_mode": {
    "name": "ipython",
    "version": 3
   },
   "file_extension": ".py",
   "mimetype": "text/x-python",
   "name": "python",
   "nbconvert_exporter": "python",
   "pygments_lexer": "ipython3",
   "version": "3.8.5"
  }
 },
 "nbformat": 4,
 "nbformat_minor": 4
}
