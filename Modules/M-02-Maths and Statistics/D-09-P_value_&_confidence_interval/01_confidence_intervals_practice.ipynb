{
 "cells": [
  {
   "cell_type": "markdown",
   "metadata": {},
   "source": [
    "# Practice notebook for confidence intervals using NHANES data\n",
    "\n",
    "This notebook will give you the opportunity to practice working with confidence intervals using the NHANES data.\n",
    "\n",
    "You can enter your code into the cells that say \"enter your code here\", and you can type responses to the questions into the cells that say \"Type Markdown and Latex\".\n",
    "\n",
    "Note that most of the code that you will need to write below is very similar to code that appears in the case study notebook.  You will need to edit code from that notebook in small ways to adapt it to the prompts below.\n",
    "\n",
    "To get started, we will use the same module imports and read the data in the same way as we did in the case study:"
   ]
  },
  {
   "cell_type": "code",
   "execution_count": 103,
   "metadata": {},
   "outputs": [
    {
     "data": {
      "text/plain": [
       "160580"
      ]
     },
     "execution_count": 103,
     "metadata": {},
     "output_type": "execute_result"
    }
   ],
   "source": [
    "%matplotlib inline\n",
    "import matplotlib.pyplot as plt\n",
    "import pandas as pd\n",
    "import numpy as np\n",
    "import seaborn as sns\n",
    "import statsmodels.api as sm\n",
    "\n",
    "da = pd.read_csv(\"nhanes_2015_2016.csv\")\n",
    "pd.set_option('display.max_columns',28)\n",
    "da.size"
   ]
  },
  {
   "cell_type": "markdown",
   "metadata": {},
   "source": [
    "## Question 1\n",
    "\n",
    "Restrict the sample to women between 35 and 50, then use the marital status variable [DMDMARTL](https://wwwn.cdc.gov/Nchs/Nhanes/2015-2016/DEMO_I.htm#DMDMARTL) to partition this sample into two groups - women who are currently married, and women who are not currently married.  Within each of these groups, calculate the proportion of women who have completed college.  Calculate 95% confidence intervals for each of these proportions."
   ]
  },
  {
   "cell_type": "code",
   "execution_count": 61,
   "metadata": {},
   "outputs": [
    {
     "name": "stdout",
     "output_type": "stream",
     "text": [
      "0.3163811208674688 0.4052224426069187\n",
      "0.08884132173944992\n",
      "0.1693673655848136 0.25666813737376626\n",
      "0.08730077178895265\n"
     ]
    },
    {
     "name": "stderr",
     "output_type": "stream",
     "text": [
      "<ipython-input-61-a25eb3f16eb7>:13: UserWarning: Boolean Series key will be reindexed to match DataFrame index.\n",
      "  married_college = married_women[filter_college_completion]\n",
      "<ipython-input-61-a25eb3f16eb7>:29: UserWarning: Boolean Series key will be reindexed to match DataFrame index.\n",
      "  not_married_college = not_married_women[filter_college_completion]\n"
     ]
    }
   ],
   "source": [
    "# enter your code here\n",
    "filter_sample = (da['RIDAGEYR'].between(35,50, inclusive=True)) & (da['RIAGENDR'] == 2 )\n",
    "women = da[filter_sample]\n",
    "\n",
    "filter_marital_status = (women['DMDMARTL'] == 1)\n",
    "married_women = women[filter_marital_status]\n",
    "not_married_women = women[~filter_marital_status]\n",
    "#print(len(married_women))\n",
    "#print(len(not_married_women))\n",
    "\n",
    "\n",
    "filter_college_completion = ( (women['DMDEDUC2'] == 5))\n",
    "married_college = married_women[filter_college_completion]\n",
    "#print(len(married_college))\n",
    "#print(len(not_married_college))\n",
    "married_college_percentage = len(married_college)/len(married_women)\n",
    "lcb_m = married_college_percentage - 1.96 * np.sqrt(married_college_percentage * (1 - married_college_percentage) / len(married_women))  \n",
    "ucb_m = married_college_percentage + 1.96 * np.sqrt(married_college_percentage * (1 - married_college_percentage) / len(married_women))  \n",
    "#print(f'Percentage of married women with college completion is {round(married_college_percentage,2)}%')\n",
    "#std_married_women_edu = married_women['DMDEDUC2'].std(skipna=True)\n",
    "#var_married_women_edu = married_women['DMDEDUC2'].var(skipna=True)\n",
    "#print(std_married_women_edu)\n",
    "#print(var_married_women_edu)\n",
    "#conf_interval_married = married_women['DMDEDUC2'].mean(skipna=True) + (2.57* (std_married_women_edu/np.sqrt(len(married_women))))\n",
    "#print(conf_interval)\n",
    "print(lcb_m, ucb_m)\n",
    "print(ucb_m - lcb_m)\n",
    "\n",
    "not_married_college = not_married_women[filter_college_completion]\n",
    "not_married_college_percentage = len(not_married_college)/len(not_married_women) \n",
    "lcb_nm = not_married_college_percentage - 1.96 * np.sqrt(not_married_college_percentage * (1 - not_married_college_percentage) / len(not_married_women))  \n",
    "ucb_nm = not_married_college_percentage + 1.96 * np.sqrt(not_married_college_percentage * (1 - not_married_college_percentage) / len(not_married_women))  \n",
    "print(lcb_nm, ucb_nm)\n",
    "print(ucb_nm - lcb_nm)\n",
    "#print(f'Percentage of unmarried women with college completion is {round(not_married_college_percentage,2)}%')\n"
   ]
  },
  {
   "cell_type": "markdown",
   "metadata": {},
   "source": [
    "__Q1a.__ Identify which of the two confidence intervals is wider, and explain why this is the case. "
   ]
  },
  {
   "cell_type": "markdown",
   "metadata": {},
   "source": []
  },
  {
   "cell_type": "markdown",
   "metadata": {},
   "source": [
    "__Q1b.__ Write 1-2 sentences summarizing these findings for an audience that does not know what a confidence interval is (the goal here is to report the substance of what you learned about how marital status and educational attainment are related, not to teach a person what a confidence interval is)."
   ]
  },
  {
   "cell_type": "markdown",
   "metadata": {},
   "source": [
    "I think that if we were to apply this script to another year we could get a similar result."
   ]
  },
  {
   "cell_type": "markdown",
   "metadata": {},
   "source": [
    "## Question 2\n",
    "\n",
    "Construct 95% confidence intervals for the proportion of smokers who are female, and for the proportion of smokers who are male.  Then construct a 95% confidence interval for the difference between these proportions."
   ]
  },
  {
   "cell_type": "code",
   "execution_count": 68,
   "metadata": {},
   "outputs": [
    {
     "name": "stdout",
     "output_type": "stream",
     "text": [
      "0.5121420804639362\n",
      "0.30443548387096775\n",
      "0.4934902211293819 0.5307939397984904\n",
      "0.2879023206749516 0.3209686470669839\n"
     ]
    }
   ],
   "source": [
    "# enter your code here\n",
    "filter1 = da['RIAGENDR'] == 1\n",
    "filter2 = da['SMQ020'] == 1\n",
    "#filter3 = da['SMQ020'] == 2\n",
    "men_smokers = da[filter1 & filter2]\n",
    "women_smokers = da[~filter1 & filter2]\n",
    "men_smokers_percentage = len(men_smokers) / len(da[filter1])\n",
    "women_smokers_percentage = len(women_smokers) / len(da[~filter1])\n",
    "print(men_smokers_percentage)\n",
    "print(women_smokers_percentage)\n",
    "\n",
    "\n",
    "lcb_m = men_smokers_percentage - 1.96 * np.sqrt(men_smokers_percentage * (1 - men_smokers_percentage) / len(da[filter1]))  \n",
    "ucb_m = men_smokers_percentage + 1.96 * np.sqrt(men_smokers_percentage * (1 - men_smokers_percentage) / len(da[filter1]))  \n",
    "print(lcb_m, ucb_m)\n",
    "\n",
    "\n",
    "lcb_w = women_smokers_percentage - 1.96 * np.sqrt(women_smokers_percentage * (1 - women_smokers_percentage) / len(da[~filter1]))  \n",
    "ucb_w = women_smokers_percentage + 1.96 * np.sqrt(women_smokers_percentage * (1 - women_smokers_percentage) / len(da[~filter1]))  \n",
    "print(lcb_w, ucb_w)"
   ]
  },
  {
   "cell_type": "markdown",
   "metadata": {},
   "source": [
    "__Q2a.__ Discuss why it may be relevant to report the proportions of smokers who are female and male, and contrast this to reporting the proportions of males and females who smoke."
   ]
  },
  {
   "cell_type": "markdown",
   "metadata": {},
   "source": []
  },
  {
   "cell_type": "markdown",
   "metadata": {},
   "source": [
    "__Q2b.__ How does the width of the confidence interval for the difference of the two proportions compare to the widths of the confidence intervals for each proportion separately?"
   ]
  },
  {
   "cell_type": "markdown",
   "metadata": {},
   "source": []
  },
  {
   "cell_type": "markdown",
   "metadata": {},
   "source": [
    "## Question 3\n",
    "\n",
    "Construct a 95% interval for height ([BMXHT](https://wwwn.cdc.gov/Nchs/Nhanes/2015-2016/BMX_I.htm#BMXHT)) in centimeters.  Then convert height from centimeters to inches by dividing by 2.54, and construct a 95% confidence interval for height in inches.  Finally, convert the endpoints (the lower and upper confidence limits) of the confidence interval from inches to back to centimeters   "
   ]
  },
  {
   "cell_type": "code",
   "execution_count": 83,
   "metadata": {},
   "outputs": [
    {
     "name": "stdout",
     "output_type": "stream",
     "text": [
      "165.8805695573689 166.4050994008543\n",
      "0.5245298434854249\n",
      "65.30731084935782 65.51381866175366\n",
      "0.5245298434854374\n"
     ]
    }
   ],
   "source": [
    "# enter your code here\n",
    "#print(len(da['BMXHT']))\n",
    "dh = da['BMXHT'].dropna()\n",
    "dh_inches = dh.apply(lambda x : x / 2.54)\n",
    "mean = dh.mean()\n",
    "mean_i = dh_inches.mean()\n",
    "z = 1.96\n",
    "std_h = dh.std(ddof=0)\n",
    "std_h_i = dh_inches.std(ddof=0)\n",
    "\n",
    "lcb_h = mean - (z * (std_h / np.sqrt(len(dh))))\n",
    "lcu_h = mean + (z * (std_h / np.sqrt(len(dh))))\n",
    "cm_interval = lcu_h - lcb_h\n",
    "\n",
    "lcb_h_i = mean_i - (z * (std_h_i / np.sqrt(len(dh))))\n",
    "lcu_h_i = mean_i + (z * (std_h_i / np.sqrt(len(dh))))\n",
    "back_cm = (lcu_h_i - lcb_h_i) * 2.54\n",
    "print(lcb_h, lcu_h)\n",
    "print(cm_interval)\n",
    "print(lcb_h_i, lcu_h_i)\n",
    "print(back_cm)"
   ]
  },
  {
   "cell_type": "markdown",
   "metadata": {},
   "source": [
    "__Q3a.__ Describe how the confidence interval constructed in centimeters relates to the confidence interval constructed in inches."
   ]
  },
  {
   "cell_type": "markdown",
   "metadata": {},
   "source": []
  },
  {
   "cell_type": "markdown",
   "metadata": {},
   "source": [
    "## Question 4\n",
    "\n",
    "Partition the sample based on 10-year age bands, i.e. the resulting groups will consist of people with ages from 18-28, 29-38, etc. Construct 95% confidence intervals for the difference between the mean BMI for females and for males within each age band."
   ]
  },
  {
   "cell_type": "code",
   "execution_count": 115,
   "metadata": {},
   "outputs": [
    {
     "data": {
      "text/html": [
       "<div>\n",
       "<style scoped>\n",
       "    .dataframe tbody tr th:only-of-type {\n",
       "        vertical-align: middle;\n",
       "    }\n",
       "\n",
       "    .dataframe tbody tr th {\n",
       "        vertical-align: top;\n",
       "    }\n",
       "\n",
       "    .dataframe thead th {\n",
       "        text-align: right;\n",
       "    }\n",
       "</style>\n",
       "<table border=\"1\" class=\"dataframe\">\n",
       "  <thead>\n",
       "    <tr style=\"text-align: right;\">\n",
       "      <th>Male</th>\n",
       "      <th>27.850000</th>\n",
       "      <th>28.019433</th>\n",
       "      <th>29.943443</th>\n",
       "      <th>30.537818</th>\n",
       "      <th>30.787361</th>\n",
       "      <th>31.003733</th>\n",
       "      <th>31.054664</th>\n",
       "    </tr>\n",
       "    <tr>\n",
       "      <th>Female</th>\n",
       "      <th></th>\n",
       "      <th></th>\n",
       "      <th></th>\n",
       "      <th></th>\n",
       "      <th></th>\n",
       "      <th></th>\n",
       "      <th></th>\n",
       "    </tr>\n",
       "  </thead>\n",
       "  <tbody>\n",
       "    <tr>\n",
       "      <th>27.058186</th>\n",
       "      <td>0</td>\n",
       "      <td>1</td>\n",
       "      <td>0</td>\n",
       "      <td>0</td>\n",
       "      <td>0</td>\n",
       "      <td>0</td>\n",
       "      <td>0</td>\n",
       "    </tr>\n",
       "    <tr>\n",
       "      <th>27.464368</th>\n",
       "      <td>1</td>\n",
       "      <td>0</td>\n",
       "      <td>0</td>\n",
       "      <td>0</td>\n",
       "      <td>0</td>\n",
       "      <td>0</td>\n",
       "      <td>0</td>\n",
       "    </tr>\n",
       "    <tr>\n",
       "      <th>28.720270</th>\n",
       "      <td>0</td>\n",
       "      <td>0</td>\n",
       "      <td>0</td>\n",
       "      <td>1</td>\n",
       "      <td>0</td>\n",
       "      <td>0</td>\n",
       "      <td>0</td>\n",
       "    </tr>\n",
       "    <tr>\n",
       "      <th>29.232462</th>\n",
       "      <td>0</td>\n",
       "      <td>0</td>\n",
       "      <td>0</td>\n",
       "      <td>0</td>\n",
       "      <td>0</td>\n",
       "      <td>0</td>\n",
       "      <td>1</td>\n",
       "    </tr>\n",
       "    <tr>\n",
       "      <th>29.385132</th>\n",
       "      <td>0</td>\n",
       "      <td>0</td>\n",
       "      <td>0</td>\n",
       "      <td>0</td>\n",
       "      <td>1</td>\n",
       "      <td>0</td>\n",
       "      <td>0</td>\n",
       "    </tr>\n",
       "    <tr>\n",
       "      <th>29.514646</th>\n",
       "      <td>0</td>\n",
       "      <td>0</td>\n",
       "      <td>0</td>\n",
       "      <td>0</td>\n",
       "      <td>0</td>\n",
       "      <td>1</td>\n",
       "      <td>0</td>\n",
       "    </tr>\n",
       "    <tr>\n",
       "      <th>29.697180</th>\n",
       "      <td>0</td>\n",
       "      <td>0</td>\n",
       "      <td>1</td>\n",
       "      <td>0</td>\n",
       "      <td>0</td>\n",
       "      <td>0</td>\n",
       "      <td>0</td>\n",
       "    </tr>\n",
       "  </tbody>\n",
       "</table>\n",
       "</div>"
      ],
      "text/plain": [
       "Male       27.850000  28.019433  29.943443  30.537818  30.787361  31.003733  \\\n",
       "Female                                                                        \n",
       "27.058186          0          1          0          0          0          0   \n",
       "27.464368          1          0          0          0          0          0   \n",
       "28.720270          0          0          0          1          0          0   \n",
       "29.232462          0          0          0          0          0          0   \n",
       "29.385132          0          0          0          0          1          0   \n",
       "29.514646          0          0          0          0          0          1   \n",
       "29.697180          0          0          1          0          0          0   \n",
       "\n",
       "Male       31.054664  \n",
       "Female                \n",
       "27.058186          0  \n",
       "27.464368          0  \n",
       "28.720270          0  \n",
       "29.232462          1  \n",
       "29.385132          0  \n",
       "29.514646          0  \n",
       "29.697180          0  "
      ]
     },
     "execution_count": 115,
     "metadata": {},
     "output_type": "execute_result"
    }
   ],
   "source": [
    "# enter your code here\n",
    "da[\"agegrp\"] = pd.cut(da.RIDAGEYR, [18, 28, 38, 48, 58, 68, 78, 88])\n",
    "pr = da.groupby([\"agegrp\", \"RIAGENDR\"]).agg({\"BMXBMI\": lambda x: np.mean(x)}).unstack()\n",
    "pr.columns = [\"Female\", \"Male\"]\n",
    "#print(pr)\n",
    "dn = da.groupby([\"agegrp\", \"RIAGENDR\"]).agg({\"BMXBMI\": np.size}).unstack()\n",
    "dn.columns = [\"Female\", \"Male\"]\n",
    "dn\n",
    "new_pd = pd.crosstab(pr.Female, pr.Male)\n",
    "new_pd"
   ]
  },
  {
   "cell_type": "markdown",
   "metadata": {},
   "source": [
    "__Q4a.__ How do the widths of these confidence intervals differ?  Provide an explanation for any substantial diferences in the confidence interval widths that you see."
   ]
  },
  {
   "cell_type": "markdown",
   "metadata": {},
   "source": []
  },
  {
   "cell_type": "markdown",
   "metadata": {},
   "source": [
    "## Question 5\n",
    "\n",
    "Construct a 95% confidence interval for the first and second systolic blood pressure measures, and for the difference between the first and second systolic blood pressure measurements within a subject."
   ]
  },
  {
   "cell_type": "code",
   "execution_count": 95,
   "metadata": {},
   "outputs": [
    {
     "name": "stdout",
     "output_type": "stream",
     "text": [
      "124.59177929452376 125.57744862623166\n",
      "124.28895098652981 125.27708334048012\n",
      "124.64844171635586 124.91759261065407\n"
     ]
    }
   ],
   "source": [
    "# enter code here\n",
    "first_sbp = da['BPXSY1'].dropna()\n",
    "mean1 = first_sbp.mean()\n",
    "#print(mean1)\n",
    "std_first = first_sbp.std(ddof=0)\n",
    "#print(std_first)\n",
    "lcb_first = mean1 - (z * (std_first/np.sqrt(len(first_sbp))))\n",
    "lcu_first = mean1 + (z * (std_first/np.sqrt(len(first_sbp))))\n",
    "print(lcb_first, lcu_first)\n",
    "\n",
    "second_sbp = da['BPXSY2']\n",
    "mean2 = second_sbp.mean()\n",
    "std_second = second_sbp.std(ddof=0)\n",
    "lcb_second = mean2 - (z * (std_second/np.sqrt(len(first_sbp))))\n",
    "lcu_second = mean2 + (z * (std_second/np.sqrt(len(first_sbp))))\n",
    "print(lcb_second, lcu_second)\n",
    "\n",
    "diff = first_sbp - second_sbp\n",
    "mean3 = diff.mean()\n",
    "std_diff = diff.std(ddof=0)\n",
    "lcb_diff = mean2 - (z * (std_diff/np.sqrt(len(first_sbp))))\n",
    "lcu_diff = mean2 + (z * (std_diff/np.sqrt(len(first_sbp))))\n",
    "print(lcb_diff, lcu_diff)"
   ]
  },
  {
   "cell_type": "markdown",
   "metadata": {},
   "source": [
    "__Q5a.__ Based on these confidence intervals, would you say that a difference of zero between the population mean values of the first and second systolic blood pressure measures is consistent with the data?"
   ]
  },
  {
   "cell_type": "markdown",
   "metadata": {},
   "source": []
  },
  {
   "cell_type": "markdown",
   "metadata": {},
   "source": [
    "\n",
    "__Q5b.__ Discuss how the width of the confidence interval for the within-subject difference compares to the widths of the confidence intervals for the first and second measures."
   ]
  },
  {
   "cell_type": "markdown",
   "metadata": {},
   "source": []
  },
  {
   "cell_type": "markdown",
   "metadata": {},
   "source": [
    "## Question 6\n",
    "\n",
    "Construct a 95% confidence interval for the mean difference between the average age of a smoker, and the average age of a non-smoker."
   ]
  },
  {
   "cell_type": "code",
   "execution_count": 110,
   "metadata": {},
   "outputs": [
    {
     "name": "stdout",
     "output_type": "stream",
     "text": [
      "52.08183852677868 52.11134819163442\n",
      "45.29613916448457 45.317443973688725\n"
     ]
    }
   ],
   "source": [
    "# insert your code here\n",
    "mean_smoker_age = da[filter2].RIDAGEYR.mean()\n",
    "std_smoker_age = da[filter2].RIDAGEYR.std(ddof=0)\n",
    "lcb_smoke = mean_smoker_age - (z * (std_smoker_age/(len(da[filter2].RIDAGEYR))))\n",
    "lcu_smoke = mean_smoker_age + (z * (std_smoker_age/(len(da[filter2].RIDAGEYR))))\n",
    "print(lcb_smoke, lcu_smoke)\n",
    "\n",
    "\n",
    "mean_non_smoker_age = da[~filter2].RIDAGEYR.mean()\n",
    "std_non_smoker_age = da[~filter2].RIDAGEYR.std(ddof=0)\n",
    "lcb_no_smoke = mean_non_smoker_age - (z * (std_non_smoker_age/(len(da[~filter2].RIDAGEYR))))\n",
    "lcu_no_smoke = mean_non_smoker_age + (z * (std_non_smoker_age/(len(da[~filter2].RIDAGEYR))))\n",
    "print(lcb_no_smoke, lcu_no_smoke)\n"
   ]
  },
  {
   "cell_type": "markdown",
   "metadata": {},
   "source": [
    "__Q6a.__ Use graphical and numerical techniques to compare the variation in the ages of smokers to the variation in the ages of non-smokers.  "
   ]
  },
  {
   "cell_type": "code",
   "execution_count": 1,
   "metadata": {},
   "outputs": [],
   "source": [
    "# insert your code here"
   ]
  },
  {
   "cell_type": "markdown",
   "metadata": {},
   "source": [
    "__Q6b.__ Does it appear that uncertainty about the mean age of smokers, or uncertainty about the mean age of non-smokers contributed more to the uncertainty for the mean difference that we are focusing on here?"
   ]
  },
  {
   "cell_type": "markdown",
   "metadata": {},
   "source": []
  }
 ],
 "metadata": {
  "kernelspec": {
   "display_name": "Python 3",
   "language": "python",
   "name": "python3"
  },
  "language_info": {
   "codemirror_mode": {
    "name": "ipython",
    "version": 3
   },
   "file_extension": ".py",
   "mimetype": "text/x-python",
   "name": "python",
   "nbconvert_exporter": "python",
   "pygments_lexer": "ipython3",
   "version": "3.8.8"
  }
 },
 "nbformat": 4,
 "nbformat_minor": 2
}
