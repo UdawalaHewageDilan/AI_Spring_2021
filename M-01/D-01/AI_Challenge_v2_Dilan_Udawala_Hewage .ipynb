{
 "cells": [
  {
   "cell_type": "markdown",
   "metadata": {},
   "source": [
    "# Srtive School AI_Challenge_V2\n",
    "\n",
    "## Udawala Hewage Dilan"
   ]
  },
  {
   "cell_type": "markdown",
   "metadata": {},
   "source": [
    "\n",
    "### Task 01:\n",
    "\n",
    "Write a function cashier that classifies a given amount of money, specified in cents, as greater monetary units. Your code lists the monetary equivalent in dollars (100 ct), quarters (25 ct), dimes (10 ct), nickels (5 ct), and pennies (1 ct). Your program should report the maximum number of dollars that fit in the amount, then the maximum number of quarters that fit in the remainder after you subtract the dollars, then the maximum number of dimes that fit in the remainder, and store all this information into a dictionary.\n",
    "\n",
    "Please complete the definition of the function. Here is what you can assume about this function:\n",
    "\n",
    "The input parameter amount is a non-negative int value.\n",
    "The function cashier must return a dictionary with the following structure:\n",
    "{\n",
    "'dollars': dollars_count,\n",
    "'quarters': quarters_count,\n",
    "'dimes': dimes_count,\n",
    "'nickels': nickels_count,\n",
    "'pennies': pennies_count\n",
    "}"
   ]
  },
  {
   "cell_type": "code",
   "execution_count": 3,
   "metadata": {},
   "outputs": [
    {
     "name": "stdout",
     "output_type": "stream",
     "text": [
      "Enter total in cents: 14253\n",
      "{'Dollars': 142, 'Quarters': 2, 'Dimes': 0, 'Nickels': 0, 'Pennies': 3}\n"
     ]
    }
   ],
   "source": [
    "def cashier(x):\n",
    "    \"\"\"Given an amount in cents returns a dictionary that classifies it\n",
    "    in greater monetary units.\n",
    "    dollars (100 ct), quarters (25 ct),\n",
    "    dimes (10 ct), nickels (5 ct), and pennies (1 ct)\"\"\"\n",
    "    cashier_list = ['Dollars', 'Quarters', 'Dimes', 'Nickels', 'Pennies']\n",
    "    greater_units = [100, 25, 10, 5, 1]\n",
    "    values = []\n",
    "    for unit in greater_units:\n",
    "        y = x // unit\n",
    "        x -= y*unit\n",
    "        if y > 0:\n",
    "            values.append(y)\n",
    "        else:\n",
    "            values.append(0)\n",
    "\n",
    "    cashier_dict = dict(list(zip(cashier_list, values)))\n",
    "\n",
    "    return cashier_dict\n",
    "\n",
    "\n",
    "cents = int(input(\"Enter total in cents: \"))\n",
    "print(cashier(cents))"
   ]
  },
  {
   "cell_type": "markdown",
   "metadata": {},
   "source": [
    "### Task 02:\n",
    "\n",
    "Grades are values between zero and 10 (both zero and 10 included), and are always rounded to the nearest half point. To translate grades to the American style, 8.5 to 10 become an \"A\", 7.5 and 8 become a \"B\", 6.5 and 7 become a \"C\", 5.5 and 6 become a \"D\", and other grades become an \"F\".\n",
    "\n",
    "Write a function convert_grades that implements this translation and returns the American translation of the value in the parameter grade. If grade is lower than zero or higher than 10, the function throws an error with the message \"Grades must be values between 0 and 10.\". In the case of input grades that do not end in .0 or .5, you first need to round the grade to the nearest half point.\n",
    "\n",
    "Please complete the definition of the function. Here is what you can assume about this function:\n",
    "\n",
    "The input parameter grade is a float value between 0 and 10 (both included).\n",
    "The function convert_grades must return a char with the correct grade, in case of a valid input, or it must raise an exception in case of not valid input."
   ]
  },
  {
   "cell_type": "code",
   "execution_count": 4,
   "metadata": {},
   "outputs": [
    {
     "name": "stdout",
     "output_type": "stream",
     "text": [
      "Input Grade: 7\n",
      "C\n"
     ]
    }
   ],
   "source": [
    "def convert_grades(x):\n",
    "    \"\"\"Coverts grades out of ten in to American Grades\n",
    "    A = 10 - 8.5\n",
    "    B = 8 - 7.5\n",
    "    C = 7 - 6.5\n",
    "    D = 6 - 5.5\n",
    "    F = 5 - 0\"\"\"\n",
    "\n",
    "    if x % 0.5 != 0:\n",
    "        if x % 0.5 > 0.25:\n",
    "            x += (x % 0.5)\n",
    "        else:\n",
    "            x -= (x % 0.5)\n",
    "\n",
    "    if 0 <= x <= 10:\n",
    "        if x <= 5:\n",
    "            return \"F\"\n",
    "        elif 5.5 < x <= 6:\n",
    "            return \"D\"\n",
    "        elif 6.5 < x <= 7:\n",
    "            return \"C\"\n",
    "        elif 7.5 < x <= 8:\n",
    "            return \"B\"\n",
    "        else:\n",
    "            return \"A\"\n",
    "    else:\n",
    "        return \"Invalid Grade\"\n",
    "\n",
    "\n",
    "grade = float(input(\"Input Grade: \"))\n",
    "print(convert_grades(grade))"
   ]
  },
  {
   "cell_type": "markdown",
   "metadata": {},
   "source": [
    "### Task 03:\n",
    "\n",
    "Define a function count_vowels that receives a string parameter, and returns an integer indicating how many different vowels there are in the string. The capital version of a lower case vowel is considered to be the same vowel. y is not considered a vowel. For example, for the string \"Michael Palin\", the function should return a dictionary with the count for each of the different vowels.\n",
    "\n",
    "Please complete the definition of the function. Here is what you can assume about this function:\n",
    "\n",
    "The input parameter text is a string text.\n",
    "The function count_vowels must return an dictionary with each different vowel and its counts in the input text."
   ]
  },
  {
   "cell_type": "code",
   "execution_count": 2,
   "metadata": {},
   "outputs": [
    {
     "name": "stdout",
     "output_type": "stream",
     "text": [
      "Insert your text here:sdfskdukebfdvbkusAUIE\n",
      "{'a': 1, 'e': 2, 'i': 1, 'o': 0, 'u': 3}\n",
      "{'a': 1, 'e': 2, 'i': 1, 'o': 0, 'u': 3}\n"
     ]
    }
   ],
   "source": [
    "def count_vowels(x):\n",
    "    \"\"\"Returns a Dictionary for the occurrence frequency\n",
    "    of vowels in a given text\"\"\"\n",
    "    vowels = ['a', 'e', 'i', 'o', 'u']\n",
    "    frequency = [0, 0, 0, 0, 0]\n",
    "    for letter in x:\n",
    "        if letter.lower() == 'a':\n",
    "            frequency[0] += 1\n",
    "        if letter.lower() == 'e':\n",
    "            frequency[1] += 1\n",
    "        if letter.lower() == 'i':\n",
    "            frequency[2] += 1\n",
    "        if letter.lower() == 'o':\n",
    "            frequency[3] += 1\n",
    "        if letter.lower() == 'u':\n",
    "            frequency[4] += 1\n",
    "\n",
    "    vowels_frequency_dict = dict(list(zip(vowels, frequency)))\n",
    "    return vowels_frequency_dict\n",
    "\n",
    "\n",
    "def count_vowels_ref(x):\n",
    "    vowels = ['a', 'e', 'i', 'o', 'u']\n",
    "    vowels_frequency_dict_ref = {'a': 0, 'e': 0, 'i': 0, 'o': 0, 'u': 0}\n",
    "\n",
    "    for vowel in vowels:\n",
    "        for letter in x.lower():\n",
    "            if letter == vowel:\n",
    "                vowels_frequency_dict_ref[vowel] = vowels_frequency_dict_ref.get(vowel, 0) + 1\n",
    "\n",
    "    return vowels_frequency_dict_ref\n",
    "\n",
    "\n",
    "text = input(\"Insert your text here:\")\n",
    "print(count_vowels(text))\n",
    "print(count_vowels_ref(text))"
   ]
  },
  {
   "cell_type": "markdown",
   "metadata": {},
   "source": [
    "### Task 04:\n",
    "\n",
    "A prime number is a positive integer that is dividable by exactly two different numbers, namely 1 and itself. The lowest (and only even) prime number is 2. The first 10 prime numbers are 2, 3, 5, 7, 11, 13, 17, 19, 23, and 29. Write a function that returns True if its parameter is a prime number, and False otherwise. Hint: In a loop where you test the possible dividers of the number, you can conclude that the number is not prime as soon as you encounter a number other than 1 or the number itself that divides it. However, you can only conclude that it actually is prime after you have tested all possible dividers.\n",
    "\n",
    "Please complete the definition of the function. Here is what you can assume about this function:\n",
    "\n",
    "The input parameter number is a positive int.\n",
    "The function is_prime must return the boolean value True if the parameter is a prime number, and the boolean value False otherwise."
   ]
  },
  {
   "cell_type": "code",
   "execution_count": 1,
   "metadata": {},
   "outputs": [
    {
     "name": "stdout",
     "output_type": "stream",
     "text": [
      "Insert no: 4\n",
      "False\n"
     ]
    }
   ],
   "source": [
    "def prime(num):\n",
    "    \"\"\"Returns True if given number is prime\n",
    "    and False otherwise\"\"\"\n",
    "    i = 2\n",
    "    if num == 1:\n",
    "        return False\n",
    "    elif num == 2:\n",
    "        return True\n",
    "    else:\n",
    "        while num % i != 0:\n",
    "            i += 1\n",
    "            if i >= num:\n",
    "                return True\n",
    "    return False\n",
    "\n",
    "number = int(input(\"Insert no: \"))\n",
    "print(prime(number))"
   ]
  },
  {
   "cell_type": "markdown",
   "metadata": {},
   "source": [
    "### Task 05:\n",
    "\n",
    "Write a program that takes a text as input, splits it into words (where everything that is not a letter is considered a word boundary), and case-insensitively builds a dictionary that stores for every word how often it occurs in the text. Then return the dictionary containing all the words with their quantities sorted in alphabetical order.\n",
    "\n",
    "Please complete the definition of the function. Here is what you can assume about this function:\n",
    "\n",
    "The input parameter text is a string text.\n",
    "The function count_words as a dictionary of all the words with their quantities."
   ]
  },
  {
   "cell_type": "code",
   "execution_count": 1,
   "metadata": {},
   "outputs": [
    {
     "name": "stdout",
     "output_type": "stream",
     "text": [
      "{'how': 1, 'much': 3, 'wood': 3, 'would': 4, 'a': 4, 'woodchuck': 4, 'chuck': 5, 'if': 2, 'could': 3, 'he': 3, 'as': 4, 'and': 1}\n"
     ]
    }
   ],
   "source": [
    "def count_words(x):\n",
    "    \"\"\"Given a text return a dictionary with present\n",
    "    words and frequency\"\"\"\n",
    "    import re\n",
    "    x = x.lower()\n",
    "    words = re.sub(pattern=\"[^\\w\\s]\", repl=\" \", string=x).split()\n",
    "    dict_count = {}\n",
    "    for word in words:\n",
    "        dict_count[word] = dict_count.get(word, 0) + 1\n",
    "    return dict_count\n",
    "\n",
    "\n",
    "text = \"\"\"How much wood would a woodchuck chuck\n",
    "If a woodchuck could chuck wood?\n",
    "He would chuck, he would, as much as he could,\n",
    "And chuck as much as a woodchuck would\n",
    "If a woodchuck could chuck wood.\"\"\"\n",
    "\n",
    "print(count_words(text))"
   ]
  },
  {
   "cell_type": "markdown",
   "metadata": {},
   "source": [
    "### Task 06:\n",
    "\n",
    "Awesome! Can you do the same but with a program that takes a file as an input?\n",
    "\n",
    "Write a program that takes a file.txt as input, reads it, splits it into words (where everything that is not a letter is considered a word boundary), and case-insensitively builds a dictionary that stores for every word how often it occurs in the text. Then return the dictionary containing all the words with their quantities sorted in alphabetical order.\n",
    "\n",
    "Please complete the definition of the function. Here is what you can assume about this function:\n",
    "\n",
    "The input parameter file is a file.txt.\n",
    "A main function\n",
    "Inside the main function, a function defined as readfile, which reads line by line each of the lines in the text.\n",
    "The function count_words as a dictionary of all the words with their quantities.\n",
    "The final result is a list of tuples containing the dictionary pairs (keys and values) of all the words with their quantities sorted in the higher frequency of occurrence. Note that sorting it will prove to be an additional challenge.\n"
   ]
  },
  {
   "cell_type": "code",
   "execution_count": 1,
   "metadata": {},
   "outputs": [],
   "source": [
    "def sorted_by_value(x):\n",
    "    sorted_by_value_dict = sorted(x.items(), key=lambda t: t[1])\n",
    "    return sorted_by_value_dict"
   ]
  },
  {
   "cell_type": "code",
   "execution_count": 5,
   "metadata": {},
   "outputs": [],
   "source": [
    "def count_words(x):\n",
    "    \"\"\"Given a text return a dictionary with present\n",
    "    words and frequency\"\"\"\n",
    "    import re\n",
    "    x = x.lower()\n",
    "    words = re.sub(pattern=\"[^\\w\\s]\", repl=\" \", string=x).split()\n",
    "    dict_count = {}\n",
    "    for word in words:\n",
    "        dict_count[word] = dict_count.get(word, 0) + 1\n",
    "    return dict_count"
   ]
  },
  {
   "cell_type": "code",
   "execution_count": null,
   "metadata": {},
   "outputs": [],
   "source": [
    "def main():\n",
    "    file_name = input('Enter file name: ')\n",
    "    try:\n",
    "        handle = open(file_name, 'r')\n",
    "    except Exception:\n",
    "        print('File not found')\n",
    "        quit()\n",
    "\n",
    "    print(sorted_by_value(count_words(handle.read()))[::-1])\n",
    "    handle.close()\n",
    "\n",
    "\n",
    "if __name__ == '__main__':\n",
    "    main()"
   ]
  },
  {
   "cell_type": "code",
   "execution_count": null,
   "metadata": {},
   "outputs": [],
   "source": []
  }
 ],
 "metadata": {
  "kernelspec": {
   "display_name": "Python 3",
   "language": "python",
   "name": "python3"
  },
  "language_info": {
   "codemirror_mode": {
    "name": "ipython",
    "version": 3
   },
   "file_extension": ".py",
   "mimetype": "text/x-python",
   "name": "python",
   "nbconvert_exporter": "python",
   "pygments_lexer": "ipython3",
   "version": "3.8.5"
  }
 },
 "nbformat": 4,
 "nbformat_minor": 4
}
